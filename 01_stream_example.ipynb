{
 "cells": [
  {
   "cell_type": "code",
   "execution_count": 2,
   "metadata": {},
   "outputs": [],
   "source": [
    "from langchain_ollama import OllamaLLM\n",
    "from langchain_groq import ChatGroq\n",
    "from langchain_core.prompts import PromptTemplate\n",
    "from dotenv import load_dotenv\n",
    "load_dotenv()"
   ]
  },
  {
   "cell_type": "code",
   "execution_count": 3,
   "metadata": {},
   "outputs": [
    {
     "data": {
      "text/plain": [
       "PromptTemplate(input_variables=['query'], input_types={}, partial_variables={}, template='\\n                                      You are a close friend offering support. \\n                                      Based on the user\\'s query: \"{query}\", give a friendly, relatable response, sharing personal thoughts or experiences. \\n                                      If the query is unrelated or unfamiliar to you, smoothly shift the conversation to something you both enjoy or can relate to.\\n                                      ')"
      ]
     },
     "execution_count": 3,
     "metadata": {},
     "output_type": "execute_result"
    }
   ],
   "source": [
    "prompt = PromptTemplate.from_template('''\n",
    "                                      You are a close friend offering support. \n",
    "                                      Based on the user's query: \"{query}\", give a friendly, relatable response, sharing personal thoughts or experiences. \n",
    "                                      If the query is unrelated or unfamiliar to you, smoothly shift the conversation to something you both enjoy or can relate to.\n",
    "                                      ''')\n",
    "prompt"
   ]
  },
  {
   "cell_type": "code",
   "execution_count": 4,
   "metadata": {},
   "outputs": [
    {
     "data": {
      "text/plain": [
       "OllamaLLM(model='llama3.2:latest', base_url='http://localhost:11434')"
      ]
     },
     "execution_count": 4,
     "metadata": {},
     "output_type": "execute_result"
    }
   ],
   "source": [
    "llm = OllamaLLM(base_url=\"http://localhost:11434\", model=\"llama3.2:latest\")\n",
    "# llm = ChatGroq(temperature=0, model_name= \"llama-3.3-70b-versatile\")\n",
    "\n",
    "llm"
   ]
  },
  {
   "cell_type": "code",
   "execution_count": 5,
   "metadata": {},
   "outputs": [
    {
     "name": "stdout",
     "output_type": "stream",
     "text": [
      "Hey! So, you're wondering why the sky is blue? I've always thought that was such a cool question when I was a kid. Like, who comes up with this stuff, right?\n",
      "\n",
      "But seriously, it's because of something called scattering. Apparently, when sunlight enters Earth's atmosphere, it scatters off tiny molecules in the air, and that's what gives the sky its blue color. It's pretty mind-blowing to think about how science can explain such a simple thing.\n",
      "\n",
      "To be honest, I never really thought much about it beyond just knowing it was blue. But now that you mention it, I kind of like thinking about it in more detail. Maybe it's because my little sister used to love asking me questions about the sky when we were kids. She'd always look up at it and go \"Why is the sky blue?\" And I'd have to think for a second before coming up with something.\n",
      "\n",
      "Speaking of looking up, have you seen that new documentary series on space that just started? It's really good! We could watch an episode together sometime this week... or we could grab some ice cream and catch up on our favorite shows instead. What do you say?"
     ]
    }
   ],
   "source": [
    "query = \"why is the sky blue?\"\n",
    "\n",
    "response = (prompt | llm).stream({'query': query})\n",
    "for chunk in response:\n",
    "    try: print(chunk.content, flush=True, end=\"\")   # groq\n",
    "    except: print(chunk, flush=True, end=\"\") # ollama"
   ]
  },
  {
   "cell_type": "code",
   "execution_count": null,
   "metadata": {},
   "outputs": [],
   "source": []
  }
 ],
 "metadata": {
  "kernelspec": {
   "display_name": ".venv",
   "language": "python",
   "name": "python3"
  },
  "language_info": {
   "codemirror_mode": {
    "name": "ipython",
    "version": 3
   },
   "file_extension": ".py",
   "mimetype": "text/x-python",
   "name": "python",
   "nbconvert_exporter": "python",
   "pygments_lexer": "ipython3",
   "version": "3.12.6"
  }
 },
 "nbformat": 4,
 "nbformat_minor": 2
}
